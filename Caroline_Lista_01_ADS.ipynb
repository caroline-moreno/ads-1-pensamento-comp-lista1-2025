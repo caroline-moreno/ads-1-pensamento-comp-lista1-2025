{
  "nbformat": 4,
  "nbformat_minor": 0,
  "metadata": {
    "colab": {
      "provenance": [],
      "authorship_tag": "ABX9TyPz2zAKDSUgZWfX2fmcuppa",
      "include_colab_link": true
    },
    "kernelspec": {
      "name": "python3",
      "display_name": "Python 3"
    },
    "language_info": {
      "name": "python"
    }
  },
  "cells": [
    {
      "cell_type": "markdown",
      "metadata": {
        "id": "view-in-github",
        "colab_type": "text"
      },
      "source": [
        "<a href=\"https://colab.research.google.com/github/caroline-moreno/ads-1-pensamento-comp-lista1-2025/blob/main/Caroline_Lista_01_ADS.ipynb\" target=\"_parent\"><img src=\"https://colab.research.google.com/assets/colab-badge.svg\" alt=\"Open In Colab\"/></a>"
      ]
    },
    {
      "cell_type": "markdown",
      "source": [
        "# Exercício 01\n",
        "\n",
        "Crie um algoritmo que receba um valor em metros e converta para\n",
        "centímetros."
      ],
      "metadata": {
        "id": "ufX_n9kE9QyZ"
      }
    },
    {
      "cell_type": "code",
      "source": [
        "metros = float(input('Digite um valor em metros (m): '))\n",
        "\n",
        "centimetros = metros * 100\n",
        "\n",
        "print(f'O valor de metros em centímetros é de {centimetros}.')"
      ],
      "metadata": {
        "colab": {
          "base_uri": "https://localhost:8080/"
        },
        "id": "vxerqoJr9V7I",
        "outputId": "d3ccdef2-7108-4f4d-bad2-5ae1984e5661"
      },
      "execution_count": null,
      "outputs": [
        {
          "output_type": "stream",
          "name": "stdout",
          "text": [
            "Digite um valor em metros (m): 1.49\n",
            "O valor de metros em centímetros é de 149.0\n"
          ]
        }
      ]
    },
    {
      "cell_type": "markdown",
      "source": [
        "# Exercício 02\n",
        "\n",
        "Crie um algoritmo que pergunte quanto você ganha por hora e o número\n",
        "de horas que você trabalha por mês, o algoritmo deve calcular e mostrar\n",
        "qual seu salário naquele mês."
      ],
      "metadata": {
        "id": "DPorHtqh91Fx"
      }
    },
    {
      "cell_type": "code",
      "source": [
        "ganhaHoras = int(input('Quanto você ganha por hora?: '))\n",
        "mesHoras = int(input('Quantas horas você trabalha num mês?: '))\n",
        "\n",
        "salario = ganhaHoras * mesHoras\n",
        "\n",
        "print(f'Seu salário é de {salario}')"
      ],
      "metadata": {
        "colab": {
          "base_uri": "https://localhost:8080/"
        },
        "id": "yQaZhTes_hD6",
        "outputId": "59d34d79-ec51-4f44-a10a-1c9132840cf7"
      },
      "execution_count": null,
      "outputs": [
        {
          "output_type": "stream",
          "name": "stdout",
          "text": [
            "Quanto você ganha por hora?: 10\n",
            "Quantas horas você trabalha num mês?: 100\n",
            "Seu salário é de 1000\n"
          ]
        }
      ]
    },
    {
      "cell_type": "markdown",
      "source": [
        "# Exercício 03\n",
        "\n",
        "Crie um algoritmo que leia uma entrada em quilômetros, e mostre\n",
        "quantas milhas equivalem essa quantidade em quilômetros."
      ],
      "metadata": {
        "id": "YEjV5J7UALIx"
      }
    },
    {
      "cell_type": "code",
      "source": [
        "km = float(input('Digite um valor em km: '))\n",
        "\n",
        "milhas = km / 1.609\n",
        "\n",
        "print(f'{km} km equivalem a {milhas:.4f} milhas.')"
      ],
      "metadata": {
        "colab": {
          "base_uri": "https://localhost:8080/"
        },
        "id": "ox_VH7AVAfXI",
        "outputId": "83f2a5e6-3a87-4a56-cebe-bb1bd3df4d28"
      },
      "execution_count": null,
      "outputs": [
        {
          "output_type": "stream",
          "name": "stdout",
          "text": [
            "Digite um valor em km: 46\n",
            "46.0 km equivalem a 28.5892 milhas.\n"
          ]
        }
      ]
    },
    {
      "cell_type": "markdown",
      "source": [
        "# Exercício 04\n",
        "\n",
        "Faça um algoritmo que leia um número inteiro e mostre o seu\n",
        "antecessor e seu sucessor."
      ],
      "metadata": {
        "id": "TGfu2oz-BAYp"
      }
    },
    {
      "cell_type": "code",
      "source": [
        "num = int(input('Digite um número: '))\n",
        "\n",
        "antecessor = num - 1\n",
        "sucessor = num + 1\n",
        "\n",
        "print(f'O antecessor é {antecessor} e o sucessor é {sucessor}.')"
      ],
      "metadata": {
        "colab": {
          "base_uri": "https://localhost:8080/"
        },
        "id": "fPTZe1FhBBDA",
        "outputId": "84583cdc-25fa-4ec3-e112-688d8f00751b"
      },
      "execution_count": null,
      "outputs": [
        {
          "output_type": "stream",
          "name": "stdout",
          "text": [
            "Digite um número: 8\n",
            "O antecessor é 7 e o sucessor é 9.\n"
          ]
        }
      ]
    },
    {
      "cell_type": "markdown",
      "source": [
        "# Exercício 05\n",
        "\n",
        "Zé Papo-de-Pescador, um trabalhador dedicado, comprou um\n",
        "computador para controlar o rendimento de seu trabalho diário na pesca.\n",
        "O regulamento de pesca do estado de São Paulo estabelece que o limite\n",
        "máximo de peso de peixes que pode ser capturado é de 30 quilos. Caso\n",
        "Zé pesque mais do que esse limite, ele deverá pagar uma multa de R$\n",
        "3,00 por cada quilo excedente.\n",
        "Crie um algoritmo que leia o peso total dos peixes capturados e calcule:\n",
        "\n",
        "● O excesso de peso (a quantidade de quilos que ultrapassam o\n",
        "limite de 30 quilos).\n",
        "● O valor da multa, que será calculado multiplicando o excesso de\n",
        "peso por R$ 3,00.\n",
        "\n",
        "O algoritmo deve exibir na tela as informações sobre o peso total, o\n",
        "excesso e o valor da multa que Zé deverá pagar, caso haja algum\n",
        "excedente."
      ],
      "metadata": {
        "id": "OVN3dUYrEf4y"
      }
    },
    {
      "cell_type": "code",
      "source": [
        "totalPeixes = float(input('Olá, Zé Papo-de-Pescador! Digite o peso do total de peixes que o senhor pescou hoje: '))\n",
        "\n",
        "excessoPeso = totalPeixes - 30\n",
        "multa = excessoPeso * 3\n",
        "\n",
        "if totalPeixes > 30:\n",
        "  print(f'O peso total é de {totalPeixes}, o excesso de peso é de {excessoPeso} e o valor da multa é de {multa} reais.')\n",
        "else:\n",
        "  print(f'O peso total é de {totalPeixes}, o excesso de peso é de {excessoPeso} e você não pagará multa.')"
      ],
      "metadata": {
        "colab": {
          "base_uri": "https://localhost:8080/"
        },
        "id": "-v8bcgiSEjlB",
        "outputId": "f2cf8cea-d279-4d53-83e3-ced7c9c009af"
      },
      "execution_count": 13,
      "outputs": [
        {
          "output_type": "stream",
          "name": "stdout",
          "text": [
            "Olá, Zé Papo-de-Pescador! Digite o peso do total de peixes que o senhor pescou hoje: 25\n",
            "O peso total é de 25.0, o excesso de peso é de -5.0 e você não pagará multa.\n"
          ]
        }
      ]
    },
    {
      "cell_type": "markdown",
      "source": [
        "# Exercício 06\n",
        "\n",
        "Um motorista deseja colocar no seu tanque X reais de gasolina. Escreva\n",
        "um algoritmo para ler o preço do litro da gasolina e o valor do\n",
        "pagamento, e exibir quantos litros ele conseguiu colocar no tanque."
      ],
      "metadata": {
        "id": "Xz99uVNVPCia"
      }
    },
    {
      "cell_type": "code",
      "source": [
        "precoLitro = float(input('Digite o preço do litro da gasolina: '))\n",
        "valorPagamento = float(input('Digite o valor do pagamento: '))\n",
        "\n",
        "litros = valorPagamento / precoLitro\n",
        "\n",
        "print(f'Você conseguirá colocar {litros:.2f} litros de gasolina no tanque.')"
      ],
      "metadata": {
        "colab": {
          "base_uri": "https://localhost:8080/"
        },
        "id": "-YjSIT0pPIDa",
        "outputId": "72b8219e-84b7-442d-fb90-c597ab61eac1"
      },
      "execution_count": 16,
      "outputs": [
        {
          "output_type": "stream",
          "name": "stdout",
          "text": [
            "Digite o preço do litro da gasolina: 6.35\n",
            "Digite o valor do pagamento: 100\n",
            "Você conseguirá colocar 15.75 litros de gasolina no tanque.\n"
          ]
        }
      ]
    },
    {
      "cell_type": "markdown",
      "source": [
        "# Exercício 07\n",
        "\n",
        "Crie um algoritmo que receba quanto você ganha por hora e quantas\n",
        "horas trabalhou no mês. O algoritmo deve calcular e mostrar o seu\n",
        "salário no referido mês, sabendo que serão descontados 11% do\n",
        "Imposto de Renda (IR) e mais 8% do INSS. No final o algoritmo deve\n",
        "apresentar:\n",
        "\n",
        "a. Salário bruto\n",
        "b. Valor do imposto de renda\n",
        "c. Valor do INSS\n",
        "d. Salário líquido (líquido = bruto – impostos)"
      ],
      "metadata": {
        "id": "P3QZpSJJQMDb"
      }
    },
    {
      "cell_type": "code",
      "source": [
        "ganhaHoras = int(input('Quanto você ganha por hora?: '))\n",
        "mesHoras = int(input('Quantas horas você trabalhou no mês?: '))\n",
        "\n",
        "salarioBruto = ganhaHoras * mesHoras\n",
        "ir = salarioBruto * .11\n",
        "inss = salarioBruto * .08\n",
        "liquido = (salarioBruto - ir - inss)\n",
        "\n",
        "print(f'Seu salário bruto é de {salarioBruto:.2f}.')\n",
        "print(f'O valor do IR é de {ir:.2f}.')\n",
        "print(f'O valor do INSS é de {inss:.2f}.')\n",
        "print(f'Seu salário líquido é de {liquido:.2f}.')"
      ],
      "metadata": {
        "colab": {
          "base_uri": "https://localhost:8080/"
        },
        "id": "berlpFVZQT4q",
        "outputId": "cea148f2-3b97-460f-9332-820b5876df7a"
      },
      "execution_count": 30,
      "outputs": [
        {
          "output_type": "stream",
          "name": "stdout",
          "text": [
            "Quanto você ganha por hora?: 12\n",
            "Quantas horas você trabalhou no mês?: 90\n",
            "Seu salário bruto é de 1080.00.\n",
            "O valor do IR é de 118.80.\n",
            "O valor do INSS é de 86.40.\n",
            "Seu salário líquido é de 874.80.\n"
          ]
        }
      ]
    },
    {
      "cell_type": "markdown",
      "source": [
        "# Exercício 08\n",
        "\n",
        "Você foi contratado pela Unimar para auxiliar na reforma dos blocos,\n",
        "ajudando na otimização dos custos com pintura. Para isso, desenvolva\n",
        "um programa que calcule a quantidade de tinta necessária e o custo\n",
        "total da compra.\n",
        "\n",
        "O programa deve:\n",
        "\n",
        "● Solicitar ao usuário o tamanho da área a ser pintada (em metros\n",
        "quadrados).\n",
        "\n",
        "● Considerar que 1 litro de tinta cobre 3 m².\n",
        "\n",
        "● As tintas são vendidas em latas de 18 litros, e cada lata custa R$\n",
        "80,00.\n",
        "\n",
        "● Calcular a quantidade total de latas necessárias (arredondando\n",
        "para cima, se necessário).\n",
        "\n",
        "● Informar ao usuário a quantidade de latas a serem compradas e o\n",
        "custo total da compra.\n",
        "● O objetivo do programa é fornecer informações precisas para\n",
        "facilitar a tomada de decisão sobre a compra da tinta."
      ],
      "metadata": {
        "id": "S_Ks2nLRTZzq"
      }
    },
    {
      "cell_type": "code",
      "source": [
        "import math\n",
        "\n",
        "tamanhoArea = float(input('Digite o tamanho da área a ser pintada (em metros quadrados): '))\n",
        "\n",
        "litrosNecessarios = tamanhoArea / 3\n",
        "latas = math.ceil(litrosNecessarios / 10)\n",
        "preco = latas * 80\n",
        "\n",
        "if latas > 1:\n",
        "  print(f'Você precisará de {latas} latas e o custo total será de {preco} reais.')\n",
        "else:\n",
        "  print(f'Você precisará de {latas} lata e o custo total será de {preco} reais.')"
      ],
      "metadata": {
        "colab": {
          "base_uri": "https://localhost:8080/"
        },
        "id": "sIBsILJgThL6",
        "outputId": "45f408dc-d4f3-4cc0-ee5a-3bf2e44a1a2b"
      },
      "execution_count": 36,
      "outputs": [
        {
          "output_type": "stream",
          "name": "stdout",
          "text": [
            "Digite o tamanho da área a ser pintada (em metros quadrados): 456\n",
            "Você precisará de 16 latas e o custo total será de 1280 reais.\n"
          ]
        }
      ]
    }
  ]
}